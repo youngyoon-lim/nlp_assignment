{
 "cells": [
  {
   "cell_type": "markdown",
   "metadata": {},
   "source": [
    "# 3 - Neural Machine Translation by Jointly Learning to Align and Translate\n",
    "\n",
    "In this third notebook on sequence-to-sequence models using PyTorch and TorchText, we'll be implementing the model from [Neural Machine Translation by Jointly Learning to Align and Translate](https://arxiv.org/abs/1409.0473). This model achives our best perplexity yet, ~27 compared to ~34 for the previous model.\n",
    "\n",
    "## Introduction\n",
    "\n",
    "As a reminder, here is the general encoder-decoder model:\n",
    "\n",
    "![](assets/seq2seq1.png)\n",
    "\n",
    "이전 모델에서, 우리의 아키텍처는 모든 시간 단계에서 컨텍스트 벡터 $z$를 디코더에 명시적으로 전달하고 컨텍스트 벡터와 내장된 입력 단어 $d(y_t)$를 숨겨진 상태 $s_t$와 함께 선형 레이어 $f$에 전달하여 \"information compression\"을 줄이는 방식으로 설정되었다.\n",
    "\n",
    "![](assets/seq2seq7.png)\n",
    "\n",
    "비록 우리가 information compression의 일부를 줄였지만, 우리의 컨텍스트 벡터는 여전히 소스 문장에 대한 모든 정보를 포함해야 한다. 이 노트북에 구현된 모델은 디코더가 각 디코딩 단계에서 (숨겨진 상태를 통해) 전체 소스 문장을 볼 수 있게 함으로써 information compression을 피한다 *attention*을 사용합니다.\n",
    "\n",
    "$$w = \\sum_{i}a_ih_i$$\n",
    "\n",
    "디코딩할 때마다 새로운 가중 소스 벡터를 계산하여 예측하기 위한 선형 레이어뿐만 아니라 디코더 RNN에 대한 입력으로 사용한다\n",
    "\n",
    "## Preparing Data\n",
    "\n",
    "Again, the preparation is similar to last time.\n",
    "\n",
    "먼저 필요한 모듈을 모두 가져옵니다."
   ]
  },
  {
   "cell_type": "code",
   "execution_count": 249,
   "metadata": {},
   "outputs": [],
   "source": [
    "import torch\n",
    "import torch.nn as nn\n",
    "import torch.optim as optim\n",
    "import torch.nn.functional as F\n",
    "import matplotlib.pyplot as plt\n",
    "\n",
    "from torchtext.datasets import Multi30k\n",
    "from torchtext.data import Field, BucketIterator\n",
    "\n",
    "import spacy\n",
    "import numpy as np\n",
    "\n",
    "import tqdm\n",
    "import random\n",
    "import math\n",
    "import time"
   ]
  },
  {
   "cell_type": "markdown",
   "metadata": {},
   "source": [
    "reproducability을 위해 랜덤 시드를 설정"
   ]
  },
  {
   "cell_type": "code",
   "execution_count": 250,
   "metadata": {},
   "outputs": [],
   "source": [
    "SEED = 1234\n",
    "\n",
    "random.seed(SEED)\n",
    "np.random.seed(SEED)\n",
    "torch.manual_seed(SEED)\n",
    "torch.cuda.manual_seed(SEED)\n",
    "torch.backends.cudnn.deterministic = True"
   ]
  },
  {
   "cell_type": "markdown",
   "metadata": {},
   "source": [
    "독일어 및 영어 spaCy 모델을 로드합니다."
   ]
  },
  {
   "cell_type": "code",
   "execution_count": 251,
   "metadata": {},
   "outputs": [],
   "source": [
    "spacy_de = spacy.load('de_core_news_sm')\n",
    "spacy_en = spacy.load('en_core_web_sm')"
   ]
  },
  {
   "cell_type": "markdown",
   "metadata": {},
   "source": [
    "tokenizers을 생성"
   ]
  },
  {
   "cell_type": "code",
   "execution_count": 252,
   "metadata": {},
   "outputs": [],
   "source": [
    "def tokenize_de(text):\n",
    "    \"\"\"\n",
    "    Tokenizes German text from a string into a list of strings\n",
    "    \"\"\"\n",
    "    return [tok.text for tok in spacy_de.tokenizer(text)]\n",
    "\n",
    "def tokenize_en(text):\n",
    "    \"\"\"\n",
    "    Tokenizes English text from a string into a list of strings\n",
    "    \"\"\"\n",
    "    return [tok.text for tok in spacy_en.tokenizer(text)]"
   ]
  },
  {
   "cell_type": "markdown",
   "metadata": {},
   "source": [
    "fields 은 전과 동일하게 유지"
   ]
  },
  {
   "cell_type": "code",
   "execution_count": 253,
   "metadata": {},
   "outputs": [],
   "source": [
    "SRC = Field(tokenize = tokenize_de, \n",
    "            init_token = '<sos>', \n",
    "            eos_token = '<eos>', \n",
    "            lower = True)\n",
    "\n",
    "TRG = Field(tokenize = tokenize_en, \n",
    "            init_token = '<sos>', \n",
    "            eos_token = '<eos>', \n",
    "            lower = True)"
   ]
  },
  {
   "cell_type": "markdown",
   "metadata": {},
   "source": [
    "데이터 로드"
   ]
  },
  {
   "cell_type": "code",
   "execution_count": 254,
   "metadata": {},
   "outputs": [],
   "source": [
    "train_data, valid_data, test_data = Multi30k.splits(exts = ('.de', '.en'), \n",
    "                                                    fields = (SRC, TRG))"
   ]
  },
  {
   "cell_type": "markdown",
   "metadata": {},
   "source": [
    "어휘 생성\n",
    "단어의 빈도수가 2보다 작은 단어들은 처리하지 않기 위해  min_freq = 2 set"
   ]
  },
  {
   "cell_type": "code",
   "execution_count": 255,
   "metadata": {},
   "outputs": [],
   "source": [
    "SRC.build_vocab(train_data, min_freq = 2)\n",
    "TRG.build_vocab(train_data, min_freq = 2)"
   ]
  },
  {
   "cell_type": "markdown",
   "metadata": {},
   "source": [
    "gpu 사용여부"
   ]
  },
  {
   "cell_type": "code",
   "execution_count": 256,
   "metadata": {},
   "outputs": [],
   "source": [
    "device = torch.device('cuda' if torch.cuda.is_available() else 'cpu')"
   ]
  },
  {
   "cell_type": "markdown",
   "metadata": {},
   "source": [
    "iterators(반복) 생성"
   ]
  },
  {
   "cell_type": "code",
   "execution_count": 257,
   "metadata": {},
   "outputs": [
    {
     "name": "stderr",
     "output_type": "stream",
     "text": [
      "c:\\Users\\dla12\\anaconda3\\envs\\nlp\\lib\\site-packages\\torchtext\\data\\iterator.py:48: UserWarning: BucketIterator class will be retired soon and moved to torchtext.legacy. Please see the most recent release notes for further information.\n",
      "  warnings.warn('{} class will be retired soon and moved to torchtext.legacy. Please see the most recent release notes for further information.'.format(self.__class__.__name__), UserWarning)\n"
     ]
    }
   ],
   "source": [
    "BATCH_SIZE = 128\n",
    "\n",
    "train_iterator, valid_iterator, test_iterator = BucketIterator.splits(\n",
    "    (train_data, valid_data, test_data), \n",
    "    batch_size = BATCH_SIZE,\n",
    "    device = device)"
   ]
  },
  {
   "cell_type": "markdown",
   "metadata": {},
   "source": [
    "## Building the Seq2Seq Model\n",
    "\n",
    "### Encoder\n",
    "\n",
    "먼저, 우리는 인코더를 만들 것이다. 이전 모델과 유사하게, 우리는 단일 레이어 GRU만 사용하지만, 지금은 *bidirectional RNN*을 사용한다. *bidirectional RNN* 을 사용하면 각 레이어에 두 개의 RNN이 있다. 포함된 문장을 왼쪽에서 오른쪽으로 넘기는 *forward RNN*(아래 녹색으로 표시)과 포함된 문장을 오른쪽에서 왼쪽으로 넘기는 *backward RNN*입니다. 코드에서 해야 할 일은  `bidirectional = True`으로 설정한 뒤 기존처럼 내장된 문장을 RNN에 전달하는 것뿐이다.\n",
    "![](assets/seq2seq8.png)\n",
    "\n",
    "We now have:\n",
    "\n",
    "$$\\begin{align*}\n",
    "h_t^\\rightarrow &= \\text{EncoderGRU}^\\rightarrow(e(x_t^\\rightarrow),h_{t-1}^\\rightarrow)\\\\\n",
    "h_t^\\leftarrow &= \\text{EncoderGRU}^\\leftarrow(e(x_t^\\leftarrow),h_{t-1}^\\leftarrow)\n",
    "\\end{align*}$$\n",
    "\n",
    "Where $x_0^\\rightarrow = \\text{<sos>}, x_1^\\rightarrow = \\text{guten}$ and $x_0^\\leftarrow = \\text{<eos>}, x_1^\\leftarrow = \\text{morgen}$.\n",
    "\n",
    "\n",
    "이전과 마찬가지로, 우리는 입력('embedded')만 RNN에 전달하는데, 이는 PyTorch에게 모든 0의 텐서에 정방향 및 역방향 초기 숨김 상태(각각 $h_0^\\rightarrow$ 및 $h_0^\\leftarrow$)를 초기화하도록 한다. 우리는 또한 두 개의 context 벡터를 얻을 것이다. 하나는 문장의 마지막 단어 $z^\\rightarrow=h_T^\\rightarrow$를 본 후 전진 RNN에서, 다른 하나는 문장의 첫 번째 단어 $z^\\leftarrow=h_T^\\leftarrow$를 본 후 후진 RNN에서 얻는다.\n",
    "\n",
    " RNN `outputs` and `hidden` 반환합니다. \n",
    "\n",
    "'outputs'는 **[srclen, 배치 크기, hiddim *num directions]**의 크기이며, 세 번째 축의 첫 번째 'hid_dim' 요소는 상위 계층 순방향 RNN의 숨겨진 상태이며, 마지막 'hid_dim' 요소는 상위 계층 역방향 RNN의 숨겨진 상태라고 생각할 수 있다.다른 것, 즉 $h_1 = [h_1^\\rightarrow; h_{T}^\\leftarrow], $h_2 = [h_2^\\rightarrow; h_{T-1}^\\leftarrow]$를 함께 사용하면 모든 encoder hidden states(forward and backwards concatenated together)를 $H=\\{h_1, h_2, ..., h_t}$로 나타낼 수 있다.\n",
    "\n",
    "'hidden'은 **[n layers * num directions, batch size, hidd dim]**의 크기이며, 여기서 **[-2, :, :]**는 final time-step(문장에서 마지막 단어를 본 후) 후에 top layer forward RNN hidden stat를 제공하고 **[-1, :, :, :]**는 final time-step(첫 번째 단어를 본 후) 후에top layer backward RNN hidden stat를 제공한다).\n",
    "\n",
    "디코더는 양방향이 아니기 때문에 초기 숨겨진 상태인 $s_0$로 사용하기 위해 single context vector $z$만 필요하며, 현재 우리는 두 개의 컨텍스트 벡터(각각 $z^\\rightarrow=h_T^\\rightarrow$와 $z^\\leftarrow=h_T^\\leftarrow$)를 가지고 있다. 우리는 두 컨텍스트 벡터를 함께 연결하고 선형 레이어인 $g$를 통과하고 $\\tanh$ 활성화 함수를 적용하여 이를 해결한다.\n",
    "\n",
    "$$z=\\tanh(g(h_T^\\rightarrow, h_T^\\leftarrow)) = \\tanh(g(z^\\rightarrow, z^\\leftarrow)) = s_0$$\n",
    "\n",
    "**Note**: this is actually a deviation from the paper. Instead, they feed only the first backward RNN hidden state through a linear layer to get the context vector/decoder initial hidden state. This doesn't seem to make sense to me, so we have changed it.\n",
    "\n",
    "**참고**: context vector/decoder 초기 hidden state를 얻기 위해 linear layer를 통해 첫 번째 backward RNN hidden state만 공급한다.\n",
    "\n",
    "모델이 소스 문장의 전체를 돌아보기를 원하기 때문에 소스 문장의 모든 토큰에 대해 쌓인 forward 및 backward 숨겨진 상태인 `outputs`을 반환한다. 우리는 또한 디코더에서 초기 hidden state로 작용하는 `hidden`을 반환한다.\n"
   ]
  },
  {
   "cell_type": "code",
   "execution_count": 258,
   "metadata": {},
   "outputs": [],
   "source": [
    "class Encoder(nn.Module):\n",
    "    def __init__(self, input_dim, emb_dim, enc_hid_dim, dec_hid_dim, dropout):\n",
    "        super().__init__()\n",
    "        \n",
    "        self.embedding = nn.Embedding(input_dim, emb_dim)\n",
    "        \n",
    "        self.rnn = nn.GRU(emb_dim, enc_hid_dim, bidirectional = True)\n",
    "        \n",
    "        self.fc = nn.Linear(enc_hid_dim * 2, dec_hid_dim)\n",
    "        \n",
    "        self.dropout = nn.Dropout(dropout)\n",
    "        \n",
    "    def forward(self, src):\n",
    "        \n",
    "        #src = [src len, batch size]\n",
    "        \n",
    "        embedded = self.dropout(self.embedding(src))\n",
    "        \n",
    "        #embedded = [src len, batch size, emb dim]\n",
    "        \n",
    "        outputs, hidden = self.rnn(embedded)\n",
    "                \n",
    "        #outputs = [src len, batch size, hid dim * num directions]\n",
    "        #hidden = [n layers * num directions, batch size, hid dim]\n",
    "        \n",
    "        #hidden is stacked [forward_1, backward_1, forward_2, backward_2, ...]\n",
    "        #outputs are always from the last layer\n",
    "        \n",
    "        #hidden [-2, :, : ] is the last of the forwards RNN \n",
    "        #hidden [-1, :, : ] is the last of the backwards RNN\n",
    "        \n",
    "        #initial decoder hidden is final hidden state of the forwards and backwards \n",
    "        #  encoder RNNs fed through a linear layer\n",
    "        hidden = torch.tanh(self.fc(torch.cat((hidden[-2,:,:], hidden[-1,:,:]), dim = 1)))\n",
    "        \n",
    "        #outputs = [src len, batch size, enc hid dim * 2]\n",
    "        #hidden = [batch size, dec hid dim]\n",
    "        \n",
    "        return outputs, hidden"
   ]
  },
  {
   "cell_type": "markdown",
   "metadata": {},
   "source": [
    "### Attention\n",
    "\n",
    "\n",
    "다음은 attention layer입니다. 이것은 디코더의 이전 hidden state $s_{t-1}$와 인코더에서 쌓인 모든 forward 및 backward hidden states $H$를 가져옵니다. 레이어는 source sentence의 길이인 attention vector $a_t$를 출력하며, 각 요소는 0과 1 사이이고 전체 벡터 합은 1이다.\n",
    "\n",
    "직관적으로, 이 layer 지금까지 디코딩한 $s_{t-1}$와 인코딩한 모든 $H$를 사용하여 소스 문장에서 디코딩할 다음 단어 $\\hat{y}_{t+1}$를 올바르게 예측하기 위해 most attention 할 단어를 나타내는 벡터 $a_t$를 생성한다.\n",
    "\n",
    "\n",
    "먼저, 우리는 이전 디코더 숨겨진 상태와 인코더 숨겨진 상태 사이의 *energy*를 계산한다. 인코더 hidden states는 일련의 $T$ 텐서이고 이전 디코더 hidden states는 단일 텐서이므로, 먼저 이전 디코더 hidden states $T$를 '반복'한다. 그런 다음 이들을 함께 연결하고 선형 레이어('attn')와 $\\tanh$ 활성화 함수를 통과하여 그들 사이의 energy $E_t$를 계산한다.\n",
    "\n",
    "$$E_t = \\tanh(\\text{attn}(s_{t-1}, H))$$ \n",
    "\n",
    "이는 각 인코더 hidden state가 이전 디코더 hidden state와 얼마나 \"일치\"하는지 계산하는 것으로 생각할 수 있다.\n",
    "\n",
    "우리는 현재 배치의 각 예에 대해 **[dechiddim, srclen]** 텐서를 가지고 있다. 우리는 이것이 소스 문장의 길이보다 더 길어야 하기 때문에 배치의 각 예에 대해 **[srclen]**가 되기를 원한다. 이는 'energy'에 **[1, decid dim]* 텐서 $v$를 곱함으로써 달성된다.\n",
    "\n",
    "$$\\hat{a}_t = v E_t$$\n",
    "\n",
    "우리는 $v$를 모든 인코더 hidden state에 걸친 energy 가중치 합에 대한 가중치로 생각할 수 있다. 이러한 가중치는 소스 시퀀스의 각 토큰에 얼마나 attend를 기울여야 하는지 알려줍니다. $v$의 매개 변수는 무작위로 초기화되지만 역전파를 통해 모델의 나머지 부분과 함께 학습된다. $v$는 시간에 의존하지 않으며, 디코딩의 각 시간 단계에 동일한 $v$가 사용된다. 우리는 $v$를 편향 없는 선형 레이어로 구현한다.\n",
    "\n",
    "마지막으로, 우리는 attention vector가 $\\text{softmax}$ 계층을 통과하여 0과 1 사이의 모든 요소를 가지며 벡터 합계를 1로 하는 제약 조건에 맞는지 확인한다.\n",
    "\n",
    "$$a_t = \\text{softmax}(\\hat{a_t})$$\n",
    "\n",
    "$s_{t-1} = s_0 = z$인 첫 번째 attention vector를 계산하기 위한 것이다. 녹색/녹색 블록은 순방향 및 역방향 RNN의 hidden state를 나타내며, attention computation은 모두 분홍색 블록 내에서 수행된다.\n",
    "\n",
    "\n",
    "![](assets/seq2seq9.png)"
   ]
  },
  {
   "cell_type": "code",
   "execution_count": 259,
   "metadata": {},
   "outputs": [],
   "source": [
    "class Attention(nn.Module):\n",
    "    def __init__(self, enc_hid_dim, dec_hid_dim):\n",
    "        super().__init__()\n",
    "        \n",
    "        self.attn = nn.Linear((enc_hid_dim * 2) + dec_hid_dim, dec_hid_dim)\n",
    "        self.v = nn.Linear(dec_hid_dim, 1, bias = False)\n",
    "        \n",
    "    def forward(self, hidden, encoder_outputs):\n",
    "        \n",
    "        #hidden = [batch size, dec hid dim]\n",
    "        #encoder_outputs = [src len, batch size, enc hid dim * 2]\n",
    "        \n",
    "        batch_size = encoder_outputs.shape[1]\n",
    "        src_len = encoder_outputs.shape[0]\n",
    "        \n",
    "        #repeat decoder hidden state src_len times\n",
    "        hidden = hidden.unsqueeze(1).repeat(1, src_len, 1)\n",
    "        \n",
    "        encoder_outputs = encoder_outputs.permute(1, 0, 2)\n",
    "        \n",
    "        #hidden = [batch size, src len, dec hid dim]\n",
    "        #encoder_outputs = [batch size, src len, enc hid dim * 2]\n",
    "        \n",
    "        energy = torch.tanh(self.attn(torch.cat((hidden, encoder_outputs), dim = 2))) \n",
    "        \n",
    "        #energy = [batch size, src len, dec hid dim]\n",
    "\n",
    "        attention = self.v(energy).squeeze(2)\n",
    "        \n",
    "        #attention= [batch size, src len]\n",
    "        \n",
    "        return F.softmax(attention, dim=1)"
   ]
  },
  {
   "cell_type": "markdown",
   "metadata": {},
   "source": [
    "### Decoder\n",
    "\n",
    "디코더는 이전의 hidden states $s_{t-1}$를 취하고 모든 인코더 hidden states $H$를 반환하는 attention layer 'attention'을 포함한다.\n",
    "\n",
    "그런 다음 이 attention vector를 사용하여 $a_t$를 가중치로 사용하여 인코더 hidden states의 가중 합계인 $H$로 표시된 weights 소스 벡터 $w_t$를 생성한다.\n",
    "\n",
    "\n",
    "$$w_t = a_t H$$\n",
    "\n",
    "\n",
    "The embedded input word $d(y_t)$, weighted source vector $w_t$ 및 이전 decoder hidden state $s_{t-1}$는 모두 디코더 RNN으로 전달되며, $d(y_t)$와 $w_t$는 함께 concatenated.\n",
    "\n",
    "$$s_t = \\text{DecoderGRU}(d(y_t), w_t, s_{t-1})$$\n",
    "\n",
    "그런 다음 $d(y_t)$, $w_t$ 및 $s_t$를 linear layer $f$를 통해 전달하여 대상 문장의 다음 단어 $\\hat{y}_{t+1}$를 예측한다. 이것은 그것들을 모두 연결함으로써 이루어진다.\n",
    "\n",
    "\n",
    "$$\\hat{y}_{t+1} = f(d(y_t), w_t, s_t)$$\n",
    "\n",
    "The image below shows decoding the first word in an example translation.\n",
    "\n",
    "![](assets/seq2seq10.png)\n",
    "\n",
    "\n",
    "green/teal block은 $H$를 output하는 forward/backward 인코더 RNN을 나타내고, red block은 context vector $z = h_T = \\tanh(g(h^\\rightarrow_T,h^\\leftarrow_T) = \\tanh(g(z^\\rightarrow, z^\\leftarrow) = s_0$를 나타내고, blue block은 ${flinearrow_t}$를 출력하는 선형 블록을 나타낸다. 그리고 orange block은 $H$에 대한 weighted sum 계산을 $a_t$만큼 보여주고 $w_t$를 출력한다. $a_t$의 계산은 표시되지 않습니다.\n"
   ]
  },
  {
   "cell_type": "code",
   "execution_count": 260,
   "metadata": {},
   "outputs": [],
   "source": [
    "class Decoder(nn.Module):\n",
    "    def __init__(self, output_dim, emb_dim, enc_hid_dim, dec_hid_dim, dropout, attention):\n",
    "        super().__init__()\n",
    "\n",
    "        self.output_dim = output_dim\n",
    "        self.attention = attention\n",
    "        \n",
    "        self.embedding = nn.Embedding(output_dim, emb_dim)\n",
    "        \n",
    "        self.rnn = nn.GRU((enc_hid_dim * 2) + emb_dim, dec_hid_dim)\n",
    "        \n",
    "        self.fc_out = nn.Linear((enc_hid_dim * 2) + dec_hid_dim + emb_dim, output_dim)\n",
    "        \n",
    "        self.dropout = nn.Dropout(dropout)\n",
    "        \n",
    "    def forward(self, input, hidden, encoder_outputs):\n",
    "             \n",
    "        #input = [batch size]\n",
    "        #hidden = [batch size, dec hid dim]\n",
    "        #encoder_outputs = [src len, batch size, enc hid dim * 2]\n",
    "        \n",
    "        input = input.unsqueeze(0)\n",
    "        \n",
    "        #input = [1, batch size]\n",
    "        \n",
    "        embedded = self.dropout(self.embedding(input))\n",
    "        \n",
    "        #embedded = [1, batch size, emb dim]\n",
    "        \n",
    "        a = self.attention(hidden, encoder_outputs)\n",
    "                \n",
    "        #a = [batch size, src len]\n",
    "        \n",
    "        a = a.unsqueeze(1)\n",
    "        \n",
    "        #a = [batch size, 1, src len]\n",
    "        \n",
    "        encoder_outputs = encoder_outputs.permute(1, 0, 2)\n",
    "        \n",
    "        #encoder_outputs = [batch size, src len, enc hid dim * 2]\n",
    "        \n",
    "        weighted = torch.bmm(a, encoder_outputs)\n",
    "        \n",
    "        #weighted = [batch size, 1, enc hid dim * 2]\n",
    "        \n",
    "        weighted = weighted.permute(1, 0, 2)\n",
    "        \n",
    "        #weighted = [1, batch size, enc hid dim * 2]\n",
    "        \n",
    "        rnn_input = torch.cat((embedded, weighted), dim = 2)\n",
    "        \n",
    "        #rnn_input = [1, batch size, (enc hid dim * 2) + emb dim]\n",
    "            \n",
    "        output, hidden = self.rnn(rnn_input, hidden.unsqueeze(0))\n",
    "        \n",
    "        #output = [seq len, batch size, dec hid dim * n directions]\n",
    "        #hidden = [n layers * n directions, batch size, dec hid dim]\n",
    "        \n",
    "        #seq len, n layers and n directions will always be 1 in this decoder, therefore:\n",
    "        #output = [1, batch size, dec hid dim]\n",
    "        #hidden = [1, batch size, dec hid dim]\n",
    "        #this also means that output == hidden\n",
    "        assert (output == hidden).all()\n",
    "        \n",
    "        embedded = embedded.squeeze(0)\n",
    "        output = output.squeeze(0)\n",
    "        weighted = weighted.squeeze(0)\n",
    "        \n",
    "        prediction = self.fc_out(torch.cat((output, weighted, embedded), dim = 1))\n",
    "        \n",
    "        #prediction = [batch size, output dim]\n",
    "        \n",
    "        return prediction, hidden.squeeze(0)"
   ]
  },
  {
   "cell_type": "markdown",
   "metadata": {},
   "source": [
    "### Seq2Seq\n",
    "\n",
    "This is the first model where we don't have to have the encoder RNN and decoder RNN have the same hidden dimensions, however the encoder has to be bidirectional. This requirement can be removed by changing all occurences of `enc_dim * 2` to `enc_dim * 2 if encoder_is_bidirectional else enc_dim`. \n",
    "\n",
    "\n",
    "이것은 인코더 RNN과 디코더 RNN이 동일한 hidden dimensions을 가질 필요가 없는 첫 번째 모델이지만 인코더는 양방향이어야 한다. 이 요구 사항은 인코더_is_bidirectional ether enc_dim의 경우 'enc_dim * 2'의 모든 발생을 'enc_dim * 2'로 변경하여 제거할 수 있다.\n",
    "\n",
    "\n",
    "This seq2seq encapsulator is similar to the last two. The only difference is that the `encoder` returns both the final hidden state (which is the final hidden state from both the forward and backward encoder RNNs passed through a linear layer) to be used as the initial hidden state for the decoder, as well as every hidden state (which are the forward and backward hidden states stacked on top of each other). We also need to ensure that `hidden` and `encoder_outputs` are passed to the decoder. \n",
    "\n",
    "This seq2seq encapsulator는 마지막 두 개와 비슷합니다. 유일한 차이점은 '인코더'가 디코더의 초기hidden states로 사용될 final hidden states(선형 레이어를 통과하는 순방향 및 역방향 인코더 RNN 둘 다로부터의 final hidden states)와 모든 hidden states(각 위에 쌓인 순방향 및 역방향 hidden states)를 모두 반환한다는 것이다. 우리는 또한 'hidden'과 'encoder_outputs'가 디코더로 전달되도록 해야 한다.\n",
    "\n",
    "정리하자면\n",
    "- all predictions을 hold하기 위해 'module' 텐서가 생성된다.$\\hat{Y}$\n",
    "- source sequence $X$는 $z$와 $H$를 receive하기 위해 인코더에 fed 된다.\n",
    "- initial decoder hidden state는 'module' 벡터로 설정되며, $s_0 = z = h_T$\n",
    "- we use a batch of `<sos>` tokens as the first `input`, $y_1$\n",
    "- 그런 다음 루프 내에서 디코딩합니다.\n",
    "  - 입력 토큰 $y_t$, 이전 hidden state $s_{t-1}$ 및 모든 인코더 출력 $H$를 디코더에 삽입합니다.\n",
    "  - 예측 $\\hat{y}_{t+1}$ 및 새로운 숨겨진 상태 $s_t$를 수신한다.\n",
    "  - we then decide if we are going to teacher force or not, setting the next input as appropriate"
   ]
  },
  {
   "cell_type": "code",
   "execution_count": 261,
   "metadata": {},
   "outputs": [],
   "source": [
    "class Seq2Seq(nn.Module):\n",
    "    def __init__(self, encoder, decoder, device):\n",
    "        super().__init__()\n",
    "        \n",
    "        self.encoder = encoder\n",
    "        self.decoder = decoder\n",
    "        self.device = device\n",
    "        \n",
    "    def forward(self, src, trg, teacher_forcing_ratio = 0.5):\n",
    "        \n",
    "        #src = [src len, batch size]\n",
    "        #trg = [trg len, batch size]\n",
    "        #teacher_forcing_ratio is probability to use teacher forcing\n",
    "        #e.g. if teacher_forcing_ratio is 0.75 we use teacher forcing 75% of the time\n",
    "        \n",
    "        batch_size = src.shape[1]\n",
    "        trg_len = trg.shape[0]\n",
    "        trg_vocab_size = self.decoder.output_dim\n",
    "        \n",
    "        #tensor to store decoder outputs\n",
    "        outputs = torch.zeros(trg_len, batch_size, trg_vocab_size).to(self.device)\n",
    "        \n",
    "        #encoder_outputs is all hidden states of the input sequence, back and forwards\n",
    "        #hidden is the final forward and backward hidden states, passed through a linear layer\n",
    "        encoder_outputs, hidden = self.encoder(src)\n",
    "                \n",
    "        #first input to the decoder is the <sos> tokens\n",
    "        input = trg[0,:]\n",
    "        \n",
    "        for t in range(1, trg_len):\n",
    "\n",
    "            #insert input token embedding, previous hidden state and all encoder hidden states\n",
    "            #receive output tensor (predictions) and new hidden state\n",
    "            output, hidden = self.decoder(input, hidden, encoder_outputs)\n",
    "            \n",
    "            #place predictions in a tensor holding predictions for each token\n",
    "            outputs[t] = output\n",
    "            \n",
    "            #decide if we are going to use teacher forcing or not\n",
    "            teacher_force = random.random() < teacher_forcing_ratio\n",
    "            \n",
    "            #get the highest predicted token from our predictions\n",
    "            top1 = output.argmax(1) \n",
    "            \n",
    "            #if teacher forcing, use actual next token as next input\n",
    "            #if not, use predicted token\n",
    "            input = trg[t] if teacher_force else top1\n",
    "\n",
    "        return outputs"
   ]
  },
  {
   "cell_type": "markdown",
   "metadata": {},
   "source": [
    "## Training the Seq2Seq Model\n",
    "우리는 매개 변수, 인코더, 디코더 및 seq2seq 모델을 초기화한다(GPU가 있는 경우 GPU에 배치)."
   ]
  },
  {
   "cell_type": "code",
   "execution_count": 262,
   "metadata": {},
   "outputs": [],
   "source": [
    "INPUT_DIM = len(SRC.vocab)\n",
    "OUTPUT_DIM = len(TRG.vocab)\n",
    "ENC_EMB_DIM = 256\n",
    "DEC_EMB_DIM = 256\n",
    "ENC_HID_DIM = 512\n",
    "DEC_HID_DIM = 512\n",
    "ENC_DROPOUT = 0.5\n",
    "DEC_DROPOUT = 0.5\n",
    "\n",
    "attn = Attention(ENC_HID_DIM, DEC_HID_DIM)\n",
    "enc = Encoder(INPUT_DIM, ENC_EMB_DIM, ENC_HID_DIM, DEC_HID_DIM, ENC_DROPOUT)\n",
    "dec = Decoder(OUTPUT_DIM, DEC_EMB_DIM, ENC_HID_DIM, DEC_HID_DIM, DEC_DROPOUT, attn)\n",
    "\n",
    "model = Seq2Seq(enc, dec, device).to(device)"
   ]
  },
  {
   "cell_type": "markdown",
   "metadata": {},
   "source": [
    "우리는 논문에서 사용된 가중치 초기화 방식의 단순화된 버전을 사용한다. 여기서는 모든 편향과 $\\mathcal{N}(0, 0.01)$의 모든 가중치를 0으로 초기화한다."
   ]
  },
  {
   "cell_type": "code",
   "execution_count": 263,
   "metadata": {},
   "outputs": [
    {
     "data": {
      "text/plain": [
       "Seq2Seq(\n",
       "  (encoder): Encoder(\n",
       "    (embedding): Embedding(7853, 256)\n",
       "    (rnn): GRU(256, 512, bidirectional=True)\n",
       "    (fc): Linear(in_features=1024, out_features=512, bias=True)\n",
       "    (dropout): Dropout(p=0.5, inplace=False)\n",
       "  )\n",
       "  (decoder): Decoder(\n",
       "    (attention): Attention(\n",
       "      (attn): Linear(in_features=1536, out_features=512, bias=True)\n",
       "      (v): Linear(in_features=512, out_features=1, bias=False)\n",
       "    )\n",
       "    (embedding): Embedding(5893, 256)\n",
       "    (rnn): GRU(1280, 512)\n",
       "    (fc_out): Linear(in_features=1792, out_features=5893, bias=True)\n",
       "    (dropout): Dropout(p=0.5, inplace=False)\n",
       "  )\n",
       ")"
      ]
     },
     "execution_count": 263,
     "metadata": {},
     "output_type": "execute_result"
    }
   ],
   "source": [
    "def init_weights(m):\n",
    "    for name, param in m.named_parameters():\n",
    "        if 'weight' in name:\n",
    "            nn.init.normal_(param.data, mean=0, std=0.01)\n",
    "        else:\n",
    "            nn.init.constant_(param.data, 0)\n",
    "            \n",
    "model.apply(init_weights)"
   ]
  },
  {
   "cell_type": "markdown",
   "metadata": {},
   "source": [
    "parameters의 수를 계산합니다. 마지막 모델에서 parameters의 양이 거의 50% 증가했습니다."
   ]
  },
  {
   "cell_type": "code",
   "execution_count": 264,
   "metadata": {},
   "outputs": [
    {
     "name": "stdout",
     "output_type": "stream",
     "text": [
      "The model has 20,518,405 trainable parameters\n"
     ]
    }
   ],
   "source": [
    "def count_parameters(model):\n",
    "    return sum(p.numel() for p in model.parameters() if p.requires_grad)\n",
    "\n",
    "print(f'The model has {count_parameters(model):,} trainable parameters')"
   ]
  },
  {
   "cell_type": "markdown",
   "metadata": {},
   "source": [
    "We create an optimizer."
   ]
  },
  {
   "cell_type": "code",
   "execution_count": 265,
   "metadata": {},
   "outputs": [],
   "source": [
    "optimizer = optim.Adam(model.parameters())"
   ]
  },
  {
   "cell_type": "markdown",
   "metadata": {},
   "source": [
    "We initialize the loss function."
   ]
  },
  {
   "cell_type": "code",
   "execution_count": 266,
   "metadata": {},
   "outputs": [],
   "source": [
    "TRG_PAD_IDX = TRG.vocab.stoi[TRG.pad_token]\n",
    "\n",
    "criterion = nn.CrossEntropyLoss(ignore_index = TRG_PAD_IDX)"
   ]
  },
  {
   "cell_type": "markdown",
   "metadata": {},
   "source": [
    "We then create the training loop..."
   ]
  },
  {
   "cell_type": "code",
   "execution_count": 267,
   "metadata": {},
   "outputs": [],
   "source": [
    "def train(model, iterator, optimizer, criterion, clip):\n",
    "    \n",
    "    model.train()\n",
    "    \n",
    "    epoch_loss = 0\n",
    "    \n",
    "    for i, batch in enumerate(iterator):\n",
    "        \n",
    "        src = batch.src\n",
    "        trg = batch.trg\n",
    "        \n",
    "        optimizer.zero_grad()\n",
    "        \n",
    "        output = model(src, trg)\n",
    "        \n",
    "        #trg = [trg len, batch size]\n",
    "        #output = [trg len, batch size, output dim]\n",
    "        \n",
    "        output_dim = output.shape[-1]\n",
    "        \n",
    "        output = output[1:].view(-1, output_dim)\n",
    "        trg = trg[1:].view(-1)\n",
    "        \n",
    "        #trg = [(trg len - 1) * batch size]\n",
    "        #output = [(trg len - 1) * batch size, output dim]\n",
    "        \n",
    "        loss = criterion(output, trg)\n",
    "        \n",
    "        loss.backward()\n",
    "        \n",
    "        torch.nn.utils.clip_grad_norm_(model.parameters(), clip)\n",
    "        \n",
    "        optimizer.step()\n",
    "        \n",
    "        epoch_loss += loss.item()\n",
    "        \n",
    "    return epoch_loss / len(iterator)"
   ]
  },
  {
   "cell_type": "markdown",
   "metadata": {},
   "source": [
    "...and the evaluation loop, remembering to set the model to `eval` mode and turn off teaching forcing."
   ]
  },
  {
   "cell_type": "code",
   "execution_count": 268,
   "metadata": {},
   "outputs": [],
   "source": [
    "def evaluate(model, iterator, criterion):\n",
    "    \n",
    "    model.eval()\n",
    "    \n",
    "    epoch_loss = 0\n",
    "    \n",
    "    with torch.no_grad():\n",
    "    \n",
    "        for i, batch in enumerate(iterator):\n",
    "\n",
    "            src = batch.src\n",
    "            trg = batch.trg\n",
    "\n",
    "            #print(f'src {src}')\n",
    "            #print(f'trg {trg}')\n",
    "\n",
    "            output = model(src, trg, 0) #turn off teacher forcing\n",
    "\n",
    "            #print(f'output {output}')\n",
    "\n",
    "            #trg = [trg len, batch size]\n",
    "            #output = [trg len, batch size, output dim]\n",
    "\n",
    "            output_dim = output.shape[-1]\n",
    "            \n",
    "            output = output[1:].view(-1, output_dim)\n",
    "\n",
    "            #print(f\"output {output}\")\n",
    "            trg = trg[1:].view(-1)\n",
    "\n",
    "            #print(f'trans {trg}')\n",
    "\n",
    "            #trg = [(trg len - 1) * batch size]\n",
    "            #output = [(trg len - 1) * batch size, output dim]\n",
    "\n",
    "            loss = criterion(output, trg)\n",
    "\n",
    "            epoch_loss += loss.item()\n",
    "        \n",
    "    return epoch_loss / len(iterator)"
   ]
  },
  {
   "cell_type": "markdown",
   "metadata": {},
   "source": [
    "Finally, define a timing function."
   ]
  },
  {
   "cell_type": "code",
   "execution_count": 269,
   "metadata": {},
   "outputs": [],
   "source": [
    "def epoch_time(start_time, end_time):\n",
    "    elapsed_time = end_time - start_time\n",
    "    elapsed_mins = int(elapsed_time / 60)\n",
    "    elapsed_secs = int(elapsed_time - (elapsed_mins * 60))\n",
    "    return elapsed_mins, elapsed_secs"
   ]
  },
  {
   "cell_type": "markdown",
   "metadata": {},
   "source": [
    "Then, we train our model, saving the parameters that give us the best validation loss."
   ]
  },
  {
   "cell_type": "code",
   "execution_count": 270,
   "metadata": {},
   "outputs": [
    {
     "name": "stderr",
     "output_type": "stream",
     "text": [
      "c:\\Users\\dla12\\anaconda3\\envs\\nlp\\lib\\site-packages\\torchtext\\data\\batch.py:23: UserWarning: Batch class will be retired soon and moved to torchtext.legacy. Please see the most recent release notes for further information.\n",
      "  warnings.warn('{} class will be retired soon and moved to torchtext.legacy. Please see the most recent release notes for further information.'.format(self.__class__.__name__), UserWarning)\n"
     ]
    },
    {
     "name": "stdout",
     "output_type": "stream",
     "text": [
      "Epoch: 01 | Time: 1m 16s\n",
      "\tTrain Loss: 5.041 | Train PPL: 154.666\n",
      "\t Val. Loss: 5.043 |  Val. PPL: 154.898\n",
      "Epoch: 02 | Time: 1m 17s\n",
      "\tTrain Loss: 4.190 | Train PPL:  66.048\n",
      "\t Val. Loss: 4.828 |  Val. PPL: 124.999\n",
      "Epoch: 03 | Time: 1m 17s\n",
      "\tTrain Loss: 3.608 | Train PPL:  36.905\n",
      "\t Val. Loss: 3.923 |  Val. PPL:  50.555\n",
      "Epoch: 04 | Time: 1m 14s\n",
      "\tTrain Loss: 3.022 | Train PPL:  20.533\n",
      "\t Val. Loss: 3.512 |  Val. PPL:  33.514\n",
      "Epoch: 05 | Time: 1m 14s\n",
      "\tTrain Loss: 2.600 | Train PPL:  13.458\n",
      "\t Val. Loss: 3.326 |  Val. PPL:  27.828\n",
      "Epoch: 06 | Time: 1m 15s\n",
      "\tTrain Loss: 2.296 | Train PPL:   9.932\n",
      "\t Val. Loss: 3.283 |  Val. PPL:  26.644\n",
      "Epoch: 07 | Time: 1m 14s\n",
      "\tTrain Loss: 2.049 | Train PPL:   7.761\n",
      "\t Val. Loss: 3.158 |  Val. PPL:  23.531\n",
      "Epoch: 08 | Time: 1m 15s\n",
      "\tTrain Loss: 1.817 | Train PPL:   6.153\n",
      "\t Val. Loss: 3.267 |  Val. PPL:  26.225\n",
      "Epoch: 09 | Time: 1m 16s\n",
      "\tTrain Loss: 1.642 | Train PPL:   5.167\n",
      "\t Val. Loss: 3.212 |  Val. PPL:  24.832\n",
      "Epoch: 10 | Time: 1m 16s\n",
      "\tTrain Loss: 1.530 | Train PPL:   4.618\n",
      "\t Val. Loss: 3.299 |  Val. PPL:  27.078\n"
     ]
    }
   ],
   "source": [
    "N_EPOCHS = 10\n",
    "CLIP = 1\n",
    "\n",
    "train_loss_list=[]\n",
    "valid_loss_list=[]\n",
    "epoch_list =[]\n",
    "\n",
    "best_valid_loss = float('inf')\n",
    "\n",
    "for epoch in range(N_EPOCHS):\n",
    "    epoch_list.append(epoch)    \n",
    "    start_time = time.time()\n",
    "    \n",
    "    train_loss = train(model, train_iterator, optimizer, criterion, CLIP)\n",
    "    train_loss_list.append(train_loss)\n",
    "    valid_loss = evaluate(model, valid_iterator, criterion)\n",
    "    valid_loss_list.append(valid_loss)\n",
    "    \n",
    "    end_time = time.time()\n",
    "    \n",
    "    epoch_mins, epoch_secs = epoch_time(start_time, end_time)\n",
    "\n",
    "    if valid_loss < best_valid_loss:\n",
    "        best_valid_loss = valid_loss\n",
    "        torch.save(model.state_dict(), 'tut3-model.pt')\n",
    "    \n",
    "    print(f'Epoch: {epoch+1:02} | Time: {epoch_mins}m {epoch_secs}s')\n",
    "    print(f'\\tTrain Loss: {train_loss:.3f} | Train PPL: {math.exp(train_loss):7.3f}')\n",
    "    print(f'\\t Val. Loss: {valid_loss:.3f} |  Val. PPL: {math.exp(valid_loss):7.3f}')"
   ]
  },
  {
   "cell_type": "code",
   "execution_count": 271,
   "metadata": {},
   "outputs": [
    {
     "data": {
      "text/plain": [
       "[<matplotlib.lines.Line2D at 0x2325bc743c8>]"
      ]
     },
     "execution_count": 271,
     "metadata": {},
     "output_type": "execute_result"
    },
    {
     "data": {
      "image/png": "[encoded data removed]",
      "text/plain": [
       "<Figure size 640x480 with 1 Axes>"
      ]
     },
     "metadata": {},
     "output_type": "display_data"
    }
   ],
   "source": [
    "plt.xlabel('epoch')\n",
    "plt.ylabel('train_loss')\n",
    "plt.plot(epoch_list, train_loss_list)"
   ]
  },
  {
   "cell_type": "code",
   "execution_count": 272,
   "metadata": {},
   "outputs": [
    {
     "data": {
      "text/plain": [
       "[<matplotlib.lines.Line2D at 0x2326949fd48>]"
      ]
     },
     "execution_count": 272,
     "metadata": {},
     "output_type": "execute_result"
    },
    {
     "data": {
      "image/png": "[encoded data removed]",
      "text/plain": [
       "<Figure size 640x480 with 1 Axes>"
      ]
     },
     "metadata": {},
     "output_type": "display_data"
    }
   ],
   "source": [
    "plt.xlabel('epoch')\n",
    "plt.ylabel('valid_loss')\n",
    "plt.plot(epoch_list, valid_loss_list)"
   ]
  },
  {
   "cell_type": "markdown",
   "metadata": {},
   "source": [
    "Finally, we test the model on the test set using these \"best\" parameters."
   ]
  },
  {
   "cell_type": "code",
   "execution_count": 273,
   "metadata": {},
   "outputs": [
    {
     "name": "stdout",
     "output_type": "stream",
     "text": [
      "| Test Loss: 3.158 | Test PPL:  23.524 |\n"
     ]
    }
   ],
   "source": [
    "model.load_state_dict(torch.load('tut3-model.pt'))\n",
    "\n",
    "test_loss = evaluate(model, test_iterator, criterion)\n",
    "\n",
    "print(f'| Test Loss: {test_loss:.3f} | Test PPL: {math.exp(test_loss):7.3f} |')"
   ]
  },
  {
   "cell_type": "markdown",
   "metadata": {},
   "source": [
    "We've improved on the previous model, but this came at the cost of doubling the training time.\n",
    "\n",
    "In the next notebook, we'll be using the same architecture but using a few tricks that are applicable to all RNN architectures - packed padded sequences and masking. We'll also implement code which will allow us to look at what words in the input the RNN is paying attention to when decoding the output."
   ]
  },
  {
   "cell_type": "code",
   "execution_count": 274,
   "metadata": {},
   "outputs": [],
   "source": [
    "from torch import no_grad\n",
    "\n",
    "\n",
    "def translator(evaluate_sentence):\n",
    "    with torch.no_grad():\n",
    "        \n",
    "        sentence = (evaluate_sentence.lower())\n",
    "        \n",
    "        #tokenize german senetece\n",
    "        tokens = tokenize_de(sentence)\n",
    "        #insert sos token at start of sentence\n",
    "        tokens.insert(0, SRC.init_token)\n",
    "        tokens.append(SRC.eos_token)\n",
    "        \n",
    "        #convert words to numbers according to the vobaulary\n",
    "        text_to_indices = [SRC.vocab.stoi[token] for token in tokens]\n",
    "        print(text_to_indices)\n",
    "        # Convert to Tensor\n",
    "        sentence_tensor = torch.LongTensor(text_to_indices).unsqueeze(1).to(device)\n",
    "        print(sentence_tensor)\n",
    "\n",
    "        # Build encoder hidden, cell state\n",
    "        with torch.no_grad():\n",
    "            hidden, cell = model.encoder(sentence_tensor)\n",
    "        \n",
    "        #output begins with sos, so append it to the output\n",
    "        outputs = [TRG.vocab.stoi[\"<sos>\"]]\n",
    "        \n",
    "        #while predicting, the previous output is the input to the next step\n",
    "        for _ in range(50):\n",
    "            previous_word = torch.LongTensor([outputs[-1]]).to(device)\n",
    "\n",
    "            with torch.no_grad():\n",
    "                output, hidden, cell = model.decoder(previous_word, hidden, cell)\n",
    "                best_guess = output.argmax(1).item()\n",
    "\n",
    "            outputs.append(best_guess)\n",
    "            \n",
    "            # Model predicts it's the end of the sentence\n",
    "            if output.argmax(1).item() == TRG.vocab.stoi[\"<eos>\"]:\n",
    "                break\n",
    "        \n",
    "        #convert the numbers to words using vocabulary\n",
    "        translated_sentence = [TRG.vocab.itos[idx] for idx in outputs]\n",
    "        print(translated_sentence[1:])"
   ]
  },
  {
   "cell_type": "code",
   "execution_count": null,
   "metadata": {},
   "outputs": [],
   "source": [
    "model.load_state_dict(torch.load('C:/Users/dla12/Desktop/nlp_202202/pytorch-seq2seq-master/tut3-model.pt'))\n",
    "\n",
    "test_loss = evaluate(model, test_iterator, criterion)\n",
    "print(f'| Test Loss: {test_loss:.3f} | Test PPL: {math.exp(test_loss):7.3f} |')\n",
    "\n",
    "#random.choice(test_clean)\n",
    "test_file = open(\"./.data/multi30k/test2016.de\")\n",
    "test_sentences = []\n",
    "for sentence in test_file:\n",
    "    sentence = sentence.strip(\"\\n\")\n",
    "    test_sentences.append(sentence.lower())\n",
    "    \n",
    "test_file.close()\n",
    "test_file = open(\"./.data/multi30k/test2016.en\")\n",
    "ground_truth = []\n",
    "for sentence in test_file:\n",
    "    sentence = sentence.strip(\"\\n\")\n",
    "    ground_truth.append(sentence.lower())\n",
    "test_file.close()\n",
    "#print(test_sentences[0:10])\n",
    "i=0\n",
    "while i<5:\n",
    "    pair_choice = random.randint(0, 100)\n",
    "    \n",
    "    ground_truth_sen = ground_truth[pair_choice]\n",
    "    ground_truth_sen = ground_truth_sen.lower()\n",
    "    to_test = test_sentences[pair_choice]\n",
    "    print(\"en\",ground_truth_sen)\n",
    "    print(\"dn\",to_test)\n",
    "    translator(to_test)\n",
    "    print(ground_truth)\n",
    "    i+=1"
   ]
  }
 ],
 "metadata": {
  "kernelspec": {
   "display_name": "Python 3.7.13 ('nlp')",
   "language": "python",
   "name": "python3"
  },
  "language_info": {
   "codemirror_mode": {
    "name": "ipython",
    "version": 3
   },
   "file_extension": ".py",
   "mimetype": "text/x-python",
   "name": "python",
   "nbconvert_exporter": "python",
   "pygments_lexer": "ipython3",
   "version": "3.7.13 (default, Mar 28 2022, 08:03:21) [MSC v.1916 64 bit (AMD64)]"
  },
  "vscode": {
   "interpreter": {
    "hash": "622ac07a99f52034498bb7307f6d73ca20ce986cdfa06002790dad3f3390b87d"
   }
  }
 },
 "nbformat": 4,
 "nbformat_minor": 2
}
